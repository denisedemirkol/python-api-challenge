{
 "cells": [
  {
   "cell_type": "markdown",
   "metadata": {},
   "source": [
    "# VacationPy\n",
    "----\n",
    "\n",
    "#### Note\n",
    "* Keep an eye on your API usage. Use https://developers.google.com/maps/reporting/gmp-reporting as reference for how to monitor your usage and billing.\n",
    "\n",
    "* Instructions have been included for each segment. You do not have to follow them exactly, but they are included to help you think through the steps."
   ]
  },
  {
   "cell_type": "code",
   "execution_count": 111,
   "metadata": {},
   "outputs": [],
   "source": [
    "# Dependencies and Setup\n",
    "import matplotlib.pyplot as plt\n",
    "import pandas as pd\n",
    "import numpy as np\n",
    "import requests\n",
    "import gmaps\n",
    "import os\n",
    "from pprint import pprint\n",
    "\n",
    "# Import API key\n",
    "from config import mykey"
   ]
  },
  {
   "cell_type": "markdown",
   "metadata": {},
   "source": [
    "### Store Part I results into DataFrame\n",
    "* Load the csv exported in Part I to a DataFrame"
   ]
  },
  {
   "cell_type": "code",
   "execution_count": 112,
   "metadata": {},
   "outputs": [
    {
     "data": {
      "text/html": [
       "<div>\n",
       "<style scoped>\n",
       "    .dataframe tbody tr th:only-of-type {\n",
       "        vertical-align: middle;\n",
       "    }\n",
       "\n",
       "    .dataframe tbody tr th {\n",
       "        vertical-align: top;\n",
       "    }\n",
       "\n",
       "    .dataframe thead th {\n",
       "        text-align: right;\n",
       "    }\n",
       "</style>\n",
       "<table border=\"1\" class=\"dataframe\">\n",
       "  <thead>\n",
       "    <tr style=\"text-align: right;\">\n",
       "      <th></th>\n",
       "      <th>City ID</th>\n",
       "      <th>city</th>\n",
       "      <th>Max Temp</th>\n",
       "      <th>Lat</th>\n",
       "      <th>Lng</th>\n",
       "      <th>Humidity</th>\n",
       "      <th>Cloudiness</th>\n",
       "      <th>Wind Speed</th>\n",
       "      <th>country</th>\n",
       "      <th>Date</th>\n",
       "    </tr>\n",
       "  </thead>\n",
       "  <tbody>\n",
       "    <tr>\n",
       "      <th>0</th>\n",
       "      <td>0</td>\n",
       "      <td>half moon bay</td>\n",
       "      <td>56.93</td>\n",
       "      <td>37.4636</td>\n",
       "      <td>-122.4286</td>\n",
       "      <td>84</td>\n",
       "      <td>75</td>\n",
       "      <td>13.80</td>\n",
       "      <td>US</td>\n",
       "      <td>1655119843</td>\n",
       "    </tr>\n",
       "    <tr>\n",
       "      <th>1</th>\n",
       "      <td>1</td>\n",
       "      <td>ribeira grande</td>\n",
       "      <td>66.60</td>\n",
       "      <td>38.5167</td>\n",
       "      <td>-28.7000</td>\n",
       "      <td>82</td>\n",
       "      <td>40</td>\n",
       "      <td>16.11</td>\n",
       "      <td>PT</td>\n",
       "      <td>1655119764</td>\n",
       "    </tr>\n",
       "    <tr>\n",
       "      <th>2</th>\n",
       "      <td>2</td>\n",
       "      <td>husavik</td>\n",
       "      <td>53.55</td>\n",
       "      <td>66.0449</td>\n",
       "      <td>-17.3389</td>\n",
       "      <td>70</td>\n",
       "      <td>100</td>\n",
       "      <td>5.73</td>\n",
       "      <td>IS</td>\n",
       "      <td>1655120258</td>\n",
       "    </tr>\n",
       "    <tr>\n",
       "      <th>3</th>\n",
       "      <td>3</td>\n",
       "      <td>nikolskoye</td>\n",
       "      <td>68.88</td>\n",
       "      <td>59.7035</td>\n",
       "      <td>30.7861</td>\n",
       "      <td>48</td>\n",
       "      <td>48</td>\n",
       "      <td>7.02</td>\n",
       "      <td>RU</td>\n",
       "      <td>1655119773</td>\n",
       "    </tr>\n",
       "    <tr>\n",
       "      <th>4</th>\n",
       "      <td>4</td>\n",
       "      <td>aswan</td>\n",
       "      <td>106.90</td>\n",
       "      <td>24.0934</td>\n",
       "      <td>32.9070</td>\n",
       "      <td>13</td>\n",
       "      <td>0</td>\n",
       "      <td>10.36</td>\n",
       "      <td>EG</td>\n",
       "      <td>1655120260</td>\n",
       "    </tr>\n",
       "  </tbody>\n",
       "</table>\n",
       "</div>"
      ],
      "text/plain": [
       "   City ID            city  Max Temp      Lat       Lng  Humidity  Cloudiness  \\\n",
       "0        0   half moon bay     56.93  37.4636 -122.4286        84          75   \n",
       "1        1  ribeira grande     66.60  38.5167  -28.7000        82          40   \n",
       "2        2         husavik     53.55  66.0449  -17.3389        70         100   \n",
       "3        3      nikolskoye     68.88  59.7035   30.7861        48          48   \n",
       "4        4           aswan    106.90  24.0934   32.9070        13           0   \n",
       "\n",
       "   Wind Speed country        Date  \n",
       "0       13.80      US  1655119843  \n",
       "1       16.11      PT  1655119764  \n",
       "2        5.73      IS  1655120258  \n",
       "3        7.02      RU  1655119773  \n",
       "4       10.36      EG  1655120260  "
      ]
     },
     "execution_count": 112,
     "metadata": {},
     "output_type": "execute_result"
    }
   ],
   "source": [
    "cities = os.path.join( '..','WeatherPy/output', 'weather_data.csv')\n",
    "\n",
    "cities_df = pd.read_csv(cities, encoding=\"ISO-8859-1\")\n",
    "cities_df.head()\n"
   ]
  },
  {
   "cell_type": "markdown",
   "metadata": {},
   "source": [
    "### Humidity Heatmap\n",
    "* Configure gmaps.\n",
    "* Use the Lat and Lng as locations and Humidity as the weight.\n",
    "* Add Heatmap layer to map."
   ]
  },
  {
   "cell_type": "code",
   "execution_count": 113,
   "metadata": {},
   "outputs": [
    {
     "data": {
      "application/vnd.jupyter.widget-view+json": {
       "model_id": "3f4ba31460e9486cafba23526f76a0eb",
       "version_major": 2,
       "version_minor": 0
      },
      "text/plain": [
       "Figure(layout=FigureLayout(height='420px'))"
      ]
     },
     "metadata": {},
     "output_type": "display_data"
    }
   ],
   "source": [
    "# Create a map using state centroid coordinates to set markers\n",
    "marker_locations = cities_df[['Lat', 'Lng']]\n",
    "humidity = cities_df[\"Humidity\"].astype(float)\n",
    "\n",
    "# Plot Heatmap\n",
    "fig = gmaps.figure()\n",
    "\n",
    "# Create heat layer\n",
    "heat_layer = gmaps.heatmap_layer(marker_locations, weights=humidity, \n",
    "                                 dissipating=False, max_intensity=10,\n",
    "                                 point_radius=1)\n",
    "\n",
    "\n",
    "# Add layer\n",
    "fig.add_layer(heat_layer)\n",
    "\n",
    "# Display figure\n",
    "fig\n"
   ]
  },
  {
   "cell_type": "code",
   "execution_count": null,
   "metadata": {},
   "outputs": [],
   "source": []
  },
  {
   "cell_type": "markdown",
   "metadata": {},
   "source": [
    "### Create new DataFrame fitting weather criteria\n",
    "* Narrow down the cities to fit weather conditions.\n",
    "* Drop any rows will null values."
   ]
  },
  {
   "cell_type": "code",
   "execution_count": 114,
   "metadata": {},
   "outputs": [
    {
     "name": "stdout",
     "output_type": "stream",
     "text": [
      "    index  City ID            city  Max Temp      Lat       Lng  Humidity  \\\n",
      "0      12       12            hilo     77.29  19.7297 -155.0900        85   \n",
      "1      56       56     fort morgan     71.02  40.2503 -103.8000        48   \n",
      "2     170      170       opelousas     78.69  30.5335  -92.0815       100   \n",
      "3     191      191        marshall     78.39  34.3834  -86.3333        92   \n",
      "4     267      267  port elizabeth     73.31 -33.9180   25.5701        67   \n",
      "6     335      335        karratha     75.00 -20.7377  116.8463        65   \n",
      "7     337      337          beloha     79.81 -25.1667   45.0500        23   \n",
      "8     384      384       amboasary     78.73 -25.0333   46.3833        37   \n",
      "10    485      485       roebourne     75.02 -20.7833  117.1333        63   \n",
      "\n",
      "    Cloudiness  Wind Speed country        Date  \n",
      "0            0        8.05      US  1655119772  \n",
      "1            0        8.05      US  1655120299  \n",
      "2            0        4.61      US  1655120388  \n",
      "3            0        0.00      US  1655120262  \n",
      "4            0        3.44      ZA  1655120467  \n",
      "6            0        6.38      AU  1655120534  \n",
      "7            0        7.92      MG  1655120537  \n",
      "8            0        4.90      MG  1655120586  \n",
      "10           0        6.06      AU  1655120704  \n"
     ]
    }
   ],
   "source": [
    "ideal_df = cities_df.loc[ (cities_df[\"Max Temp\"]<80) \n",
    "                        & (cities_df[\"Max Temp\"]>70) \n",
    "                        & (cities_df[\"Wind Speed\"]<10) \n",
    "                        & (cities_df[\"Cloudiness\"]==0)]\n",
    "\n",
    "ideal_df = ideal_df.reset_index()  \n",
    "ideal_df = ideal_df.dropna()  # There are cities without country information in the dataset, I dropped that data from this list.\n",
    "print(ideal_df)"
   ]
  },
  {
   "cell_type": "markdown",
   "metadata": {},
   "source": [
    "### Hotel Map\n",
    "* Store into variable named `hotel_df`.\n",
    "* Add a \"Hotel Name\" column to the DataFrame.\n",
    "* Set parameters to search for hotels with 5000 meters.\n",
    "* Hit the Google Places API for each city's coordinates.\n",
    "* Store the first Hotel result into the DataFrame.\n",
    "* Plot markers on top of the heatmap."
   ]
  },
  {
   "cell_type": "code",
   "execution_count": 115,
   "metadata": {},
   "outputs": [
    {
     "name": "stdout",
     "output_type": "stream",
     "text": [
      "['hilo', 'fort morgan', 'opelousas', 'marshall', 'port elizabeth', 'karratha', 'amboasary', 'roebourne']\n",
      "['US', 'US', 'US', 'US', 'ZA', 'AU', 'MG', 'AU']\n",
      "['Hilo Hawaiian Hotel', 'Hampton Inn Fort Morgan', 'Evangeline Downs Hotel, Ascend Hotel Collection', 'Lake Guntersville Bed & Breakfast', 'Herms Restaurant and Boutique Hotel', 'Karratha International Hotel', 'DISCOVERY AMBOASARY', 'Latitude20 Roebourne Village']\n",
      "[19.7283446, 40.26080390000001, 30.5268478, 34.3623906, -33.9486733, -20.7376505, -25.039133, -20.7544272]\n",
      "[-155.0664264, -103.8005018, -92.0606842, -86.2930674, 25.569334, 116.8417759, 46.38823, 117.1456981]\n"
     ]
    }
   ],
   "source": [
    "# base url\n",
    "base_url = \"https://maps.googleapis.com/maps/api/place/nearbysearch/json\"\n",
    "\n",
    "# geocoordinates\n",
    "target_radius = 5000\n",
    "target_search = \"hotel\"\n",
    "\n",
    "insert_control = False\n",
    "d_hotel_list  = []\n",
    "d_city_list   = []\n",
    "d_lat_list    = []\n",
    "d_long_list   = []\n",
    "d_county_list = []\n",
    "\n",
    "\n",
    "for index, row in ideal_df.iterrows():    \n",
    "    target_coordinates  = f\"{row['Lat']},{row['Lng']}\"\n",
    "\n",
    "\n",
    "    insert_control = False\n",
    "    # set up a parameters dictionary\n",
    "    params = {\n",
    "        \"location\": target_coordinates,        \n",
    "        \"radius\": target_radius,\n",
    "        \"keyword\": target_search,\n",
    "        \"maxResults\":1,\n",
    "        #\"type\": target_type,\n",
    "        \"key\": mykey\n",
    "    }\n",
    "\n",
    "\n",
    "    try:\n",
    "        response = requests.get(base_url, params=params)   \n",
    "        places_data = response.json()\n",
    "        \n",
    "   \n",
    "        if places_data['status'] == \"ZERO_RESULTS\":\n",
    "            pass\n",
    "        elif (places_data['status'] != \"ZERO_RESULTS\") & (insert_control == False):\n",
    " \n",
    "            d_hotel_list.append(places_data[\"results\"][0][\"name\"])\n",
    "            d_city_list.append(row['city'])\n",
    "            d_county_list.append(row[\"country\"])\n",
    "            d_lat_list.append(places_data[\"results\"][0][\"geometry\"][\"location\"][\"lat\"])\n",
    "            d_long_list.append(places_data[\"results\"][0][\"geometry\"][\"location\"][\"lng\"])\n",
    "            insert_control = True\n",
    "\n",
    "    except KeyError:\n",
    "        print(f\"Unexpected Error during building listing\") \n",
    "\n",
    "    # run a request using our params dictionary\n",
    "    \n",
    "\n",
    "    # convert response to json\n",
    "   \n",
    "\n",
    "print(d_city_list)\n",
    "print(d_county_list)\n",
    "print(d_hotel_list)\n",
    "print(d_lat_list)\n",
    "print(d_long_list)\n",
    "    \n",
    "\n",
    "    "
   ]
  },
  {
   "cell_type": "code",
   "execution_count": 116,
   "metadata": {},
   "outputs": [
    {
     "name": "stdout",
     "output_type": "stream",
     "text": [
      "             City        Lat         Lng  \\\n",
      "0            hilo  19.728345 -155.066426   \n",
      "1     fort morgan  40.260804 -103.800502   \n",
      "2       opelousas  30.526848  -92.060684   \n",
      "3        marshall  34.362391  -86.293067   \n",
      "4  port elizabeth -33.948673   25.569334   \n",
      "5        karratha -20.737651  116.841776   \n",
      "6       amboasary -25.039133   46.388230   \n",
      "7       roebourne -20.754427  117.145698   \n",
      "\n",
      "                                        Hotel Name Country  \n",
      "0                              Hilo Hawaiian Hotel      US  \n",
      "1                          Hampton Inn Fort Morgan      US  \n",
      "2  Evangeline Downs Hotel, Ascend Hotel Collection      US  \n",
      "3                Lake Guntersville Bed & Breakfast      US  \n",
      "4              Herms Restaurant and Boutique Hotel      ZA  \n",
      "5                     Karratha International Hotel      AU  \n",
      "6                              DISCOVERY AMBOASARY      MG  \n",
      "7                     Latitude20 Roebourne Village      AU  \n"
     ]
    }
   ],
   "source": [
    "hotel_df = pd.DataFrame({            \n",
    "            'City':d_city_list,            \n",
    "            'Lat':d_lat_list,\n",
    "            'Lng':d_long_list,             \n",
    "            'Hotel Name': d_hotel_list,\n",
    "            'Country':d_county_list\n",
    "        })\n",
    "\n",
    "pprint(hotel_df)"
   ]
  },
  {
   "cell_type": "code",
   "execution_count": 117,
   "metadata": {},
   "outputs": [],
   "source": [
    "# NOTE: Do not change any of the code in this cell\n",
    "\n",
    "# Using the template add the hotel marks to the heatmap\n",
    "info_box_template = \"\"\"\n",
    "<dl>\n",
    "<dt>Name</dt><dd>{Hotel Name}</dd>\n",
    "<dt>City</dt><dd>{City}</dd>\n",
    "<dt>Country</dt><dd>{Country}</dd>\n",
    "</dl>\n",
    "\"\"\"\n",
    "# Store the DataFrame Row\n",
    "# NOTE: be sure to update with your DataFrame name\n",
    "hotel_info = [info_box_template.format(**row) for index, row in hotel_df.iterrows()]\n",
    "locations = hotel_df[[\"Lat\", \"Lng\"]]"
   ]
  },
  {
   "cell_type": "code",
   "execution_count": 119,
   "metadata": {},
   "outputs": [
    {
     "data": {
      "application/vnd.jupyter.widget-view+json": {
       "model_id": "3f4ba31460e9486cafba23526f76a0eb",
       "version_major": 2,
       "version_minor": 0
      },
      "text/plain": [
       "Figure(layout=FigureLayout(height='420px'))"
      ]
     },
     "metadata": {},
     "output_type": "display_data"
    }
   ],
   "source": [
    "# Add marker layer ontop of heat map\n",
    "\n",
    "markers = gmaps.marker_layer(locations)\n",
    "\n",
    "# Create hotel symbol layer\n",
    "hotel_layer = gmaps.symbol_layer(\n",
    "    locations, fill_color='rgba(0, 150, 0, 0.4)',\n",
    "    stroke_color='rgba(0, 0, 150, 0.4)', scale=2,\n",
    "    info_box_content=hotel_info\n",
    ")\n",
    "# Add the layer to the map\n",
    "fig.add_layer(markers)\n",
    "fig.add_layer(hotel_layer)\n",
    "fig\n"
   ]
  },
  {
   "cell_type": "code",
   "execution_count": null,
   "metadata": {},
   "outputs": [],
   "source": []
  }
 ],
 "metadata": {
  "kernelspec": {
   "display_name": "Python 3.7.13 ('bootcamp')",
   "language": "python",
   "name": "python3"
  },
  "language_info": {
   "codemirror_mode": {
    "name": "ipython",
    "version": 3
   },
   "file_extension": ".py",
   "mimetype": "text/x-python",
   "name": "python",
   "nbconvert_exporter": "python",
   "pygments_lexer": "ipython3",
   "version": "3.7.13"
  },
  "latex_envs": {
   "LaTeX_envs_menu_present": true,
   "autoclose": false,
   "autocomplete": true,
   "bibliofile": "biblio.bib",
   "cite_by": "apalike",
   "current_citInitial": 1,
   "eqLabelWithNumbers": true,
   "eqNumInitial": 1,
   "hotkeys": {
    "equation": "Ctrl-E",
    "itemize": "Ctrl-I"
   },
   "labels_anchors": false,
   "latex_user_defs": false,
   "report_style_numbering": false,
   "user_envs_cfg": false
  },
  "vscode": {
   "interpreter": {
    "hash": "0177d0b8a2b6e54acf6252bb2539e74b888792532d7eae3d318e48ffaeb8c32a"
   }
  }
 },
 "nbformat": 4,
 "nbformat_minor": 4
}
